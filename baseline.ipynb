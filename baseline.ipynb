{
 "cells": [
  {
   "cell_type": "markdown",
   "metadata": {},
   "source": [
    "Подключение Библиотек"
   ]
  },
  {
   "cell_type": "code",
   "execution_count": 1,
   "id": "3c196bd1",
   "metadata": {},
   "outputs": [],
   "source": [
    "import os, gc, time\n",
    "import numpy as np\n",
    "import pandas as pd\n",
    "from pathlib import Path\n",
    "from typing import List, Optional\n",
    "from sklearn.model_selection import StratifiedKFold\n",
    "from sklearn.metrics import f1_score, classification_report, confusion_matrix\n",
    "from catboost import CatBoostClassifier, Pool"
   ]
  },
  {
   "cell_type": "markdown",
   "id": "fcc7d6cd",
   "metadata": {},
   "source": [
    " Настройки"
   ]
  },
  {
   "cell_type": "code",
   "execution_count": 2,
   "id": "eb0ea0a0",
   "metadata": {},
   "outputs": [],
   "source": [
    "SEED        = 65\n",
    "N_SPLITS    = 2\n",
    "LR          = 0.001\n",
    "DEPTH       = 2\n",
    "ITERATIONS  = 100\n",
    "ES_ROUNDS   = 10\n",
    "L2_REG      = 1.0\n",
    "RUN_NAME    = \"catboost_cv\"\n",
    "\n",
    "# Укажите путь к вашему train-файлу:\n",
    "TRAIN_PATH = \"train.csv\" "
   ]
  },
  {
   "cell_type": "markdown",
   "id": "faef161c",
   "metadata": {},
   "source": [
    "- `SEED = 65` — \"магическое число\" для воспроизводимости результатов\n",
    "- `N_SPLITS = 2` — разделим данные на 2 части для валидации\n",
    "- `LR = 0.01` — скорость обучения\n",
    "- `DEPTH = 2` — глубина деревьев (компромисс между простотой и сложностью)\n",
    "- `ITERATIONS = 100` — максимальное количество итераций обучения\n",
    "- `ES_ROUNDS = 10` — остановимся, если 10 итераций подряд нет улучшения\n",
    "- `L2_REG = 4.0` — регуляризация против переобучения\n",
    "- `RUN_NAME` — имя для сохранения файлов"
   ]
  },
  {
   "cell_type": "markdown",
   "id": "82865676",
   "metadata": {},
   "source": [
    " Вспомогательные функции"
   ]
  },
  {
   "cell_type": "markdown",
   "id": "c6a1d7f9",
   "metadata": {},
   "source": [
    "Функция для воспроизводимости. Устанавливает одинаковые «случайные» числа при каждом запуске."
   ]
  },
  {
   "cell_type": "code",
   "execution_count": 3,
   "id": "66c7b3c7",
   "metadata": {},
   "outputs": [],
   "source": [
    "def set_seed(seed=SEED):\n",
    "    import random, os\n",
    "    random.seed(seed)\n",
    "    np.random.seed(seed)"
   ]
  },
  {
   "cell_type": "code",
   "execution_count": 4,
   "id": "b40f5ca4",
   "metadata": {},
   "outputs": [],
   "source": [
    "set_seed()"
   ]
  },
  {
   "cell_type": "markdown",
   "id": "d46245ee",
   "metadata": {},
   "source": [
    "Умная функция-детектив. Автоматически находит и сообщает о результате:\n",
    "- **Целевую переменную** (то, что мы предсказываем): ищет среди \"target\", \"type\", \"label\", \"y\". Это универсальное решение для разных типов файлов, в задачах поле цели может быть записано по разному, но чаще всего это \"target\", \"type\", \"label\", \"y\"\n",
    "- **ID колонку** (идентификатор объектов): ищет среди \"object_id\", \"idx\", \"id\". Так же универсальное решение, так как ключ объекта может быть назван как id, так и \"object_id\", и \"idx\","
   ]
  },
  {
   "cell_type": "code",
   "execution_count": 5,
   "id": "941405fa",
   "metadata": {},
   "outputs": [],
   "source": [
    "def detect_columns(df: pd.DataFrame):\n",
    "    \"\"\"Определяем имя таргета и id-колонки, если есть.\"\"\"\n",
    "    target_candidates = [\"target\", \"type\", \"label\", \"y\"]\n",
    "    id_candidates     = [\"object_id\", \"idx\", \"id\"]\n",
    "    target_col = next((c for c in target_candidates if c in df.columns), None)\n",
    "    id_col     = next((c for c in id_candidates if c in df.columns), None)\n",
    "    if target_col is None:\n",
    "        raise ValueError(\"Не найдена колонка с таргетом (ожидались: target/type/label/y).\")\n",
    "    return target_col, id_col"
   ]
  },
  {
   "cell_type": "markdown",
   "id": "18016968",
   "metadata": {},
   "source": [
    "Функция-сортировщик. Разделяет колонки на:\n",
    "- **Числовые** (`num_cols`): возраст, зарплата, температура\n",
    "- **Категориальные** (`cat_cols`): пол, город, профессия\n"
   ]
  },
  {
   "cell_type": "code",
   "execution_count": 6,
   "id": "2e5475e8",
   "metadata": {},
   "outputs": [],
   "source": [
    "\n",
    "def get_feature_lists(df: pd.DataFrame, target_col: str, id_col: Optional[str]):\n",
    "    num_cols = df.select_dtypes(include=[np.number]).columns.tolist()\n",
    "    cat_cols = df.select_dtypes(include=[\"object\",\"category\"]).columns.tolist()\n",
    "    for col in [target_col, id_col]:\n",
    "        if col in num_cols: num_cols.remove(col)\n",
    "        if col in cat_cols: cat_cols.remove(col)\n",
    "    return num_cols, cat_cols"
   ]
  },
  {
   "cell_type": "markdown",
   "id": "26cd46b6",
   "metadata": {},
   "source": [
    "Загрузка и подготовка данных"
   ]
  },
  {
   "cell_type": "code",
   "execution_count": 7,
   "id": "8b34821c",
   "metadata": {},
   "outputs": [],
   "source": [
    "df = pd.read_csv(TRAIN_PATH)\n",
    "target_col, id_col = detect_columns(df) # Загружаем данные и автоматически определяем структуру."
   ]
  },
  {
   "cell_type": "code",
   "execution_count": 8,
   "id": "15ec359a",
   "metadata": {},
   "outputs": [],
   "source": [
    "num_cols, cat_cols = get_feature_lists(df, target_col, id_col)\n",
    "for c in cat_cols:\n",
    "    df[c] = df[c].astype(\"category\")"
   ]
  },
  {
   "cell_type": "markdown",
   "id": "a96e4625",
   "metadata": {},
   "source": [
    "1. Определяем типы колонок\n",
    "2. Явно помечаем категориальные как `category`"
   ]
  },
  {
   "cell_type": "code",
   "execution_count": 9,
   "id": "31085420",
   "metadata": {},
   "outputs": [],
   "source": [
    "# Разделяем фичи/цель\n",
    "feature_cols = [c for c in df.columns if c not in {target_col, id_col}]\n",
    "X = df[feature_cols].copy()\n",
    "y = df[target_col].copy()"
   ]
  },
  {
   "cell_type": "markdown",
   "id": "523f35c5",
   "metadata": {},
   "source": [
    "Разделяем данные:\n",
    "- `X` — все признаки (то, по чему предсказываем)\n",
    "- `y` — целевая переменная (то, что предсказываем)"
   ]
  },
  {
   "cell_type": "markdown",
   "id": "803f9bbf",
   "metadata": {},
   "source": [
    "Создаём список индексов категориальных колонок для CatBoost."
   ]
  },
  {
   "cell_type": "code",
   "execution_count": 10,
   "id": "c23993b0",
   "metadata": {},
   "outputs": [],
   "source": [
    "# Индексы категориальных признаков\n",
    "cat_idx = [X.columns.get_loc(c) for c in cat_cols if c in X.columns]"
   ]
  },
  {
   "cell_type": "code",
   "execution_count": 11,
   "id": "354e13de",
   "metadata": {},
   "outputs": [
    {
     "name": "stdout",
     "output_type": "stream",
     "text": [
      "Форма данных: X=(45000, 27), y=(45000,). Категориальные: 1 -> ['quality_flag']\n"
     ]
    }
   ],
   "source": [
    "print(f\"Форма данных: X={X.shape}, y={y.shape}. Категориальные: {len(cat_idx)} -> {cat_cols}\")"
   ]
  },
  {
   "cell_type": "markdown",
   "id": "1c2f3a47",
   "metadata": {},
   "source": [
    " Кросс-валидация и обучение"
   ]
  },
  {
   "cell_type": "code",
   "execution_count": 12,
   "id": "d9838e5f",
   "metadata": {},
   "outputs": [],
   "source": [
    "# ---------- CV ТРЕНИРОВКА И OOF-ОЦЕНКА ----------\n",
    "cv = StratifiedKFold(n_splits=N_SPLITS, shuffle=True, random_state=SEED)\n",
    "oof_pred = np.empty(len(X), dtype=object)\n",
    "fold_models: List[CatBoostClassifier] = []\n",
    "fold_scores = []\n",
    "start_time = time.time()\n"
   ]
  },
  {
   "cell_type": "markdown",
   "id": "878f9d94",
   "metadata": {},
   "source": [
    "Подготовка к кросс-валидации:\n",
    "- `StratifiedKFold` — умное разделение, сохраняющее пропорции классов\n",
    "- `oof_pred` — массив для \"out-of-fold\" предсказаний\n",
    "- `fold_models` — список моделей для каждого фолда\n",
    "- `fold_scores` — оценки качества по фолдам\n",
    "\n",
    "Это Как подготовка к экзамену, где мы 5 раз тренируемся на разных частях материала."
   ]
  },
  {
   "cell_type": "code",
   "execution_count": 13,
   "id": "06d91cf9",
   "metadata": {},
   "outputs": [],
   "source": [
    "params = dict(\n",
    "    loss_function=\"MultiClass\",\n",
    "    eval_metric=\"MultiClass\",          # Macro F1 посчитаем сами\n",
    "    learning_rate=LR,\n",
    "    depth=DEPTH,\n",
    "    l2_leaf_reg=L2_REG,\n",
    "    random_strength=0.8,\n",
    "    bagging_temperature=0.2,\n",
    "    auto_class_weights=\"Balanced\",     # балансируем редкие классы\n",
    "    iterations=ITERATIONS,\n",
    "    early_stopping_rounds=ES_ROUNDS,\n",
    "    allow_writing_files=False,\n",
    "    thread_count=-1,\n",
    "    random_state=SEED,\n",
    "    verbose=False\n",
    ")"
   ]
  },
  {
   "cell_type": "markdown",
   "id": "90ddd608",
   "metadata": {},
   "source": [
    "Настройки для CatBoost:\n",
    "- `MultiClass` — многоклассовая классификация\n",
    "- `auto_class_weights=\"Balanced\"` — автоматически балансирует редкие классы\n",
    "- `thread_count=-1` — использует все доступные процессоры\n",
    "- `verbose=False` — не выводит лишнюю информацию"
   ]
  },
  {
   "cell_type": "markdown",
   "id": "7ecae720",
   "metadata": {},
   "source": [
    " Цикл обучения по фолдам"
   ]
  },
  {
   "cell_type": "code",
   "execution_count": 14,
   "id": "9401340b",
   "metadata": {},
   "outputs": [
    {
     "name": "stdout",
     "output_type": "stream",
     "text": [
      "Fold 1: Macro F1 = 0.75577 | best_iter=99\n",
      "Fold 2: Macro F1 = 0.75255 | best_iter=99\n"
     ]
    }
   ],
   "source": [
    "\n",
    "for fold, (tr_idx, val_idx) in enumerate(cv.split(X, y), 1):\n",
    "    X_tr, X_val = X.iloc[tr_idx], X.iloc[val_idx]\n",
    "    y_tr, y_val = y.iloc[tr_idx], y.iloc[val_idx]\n",
    "# Для каждого фолда разделяем данные на тренировочную и валидационную части.\n",
    "    train_pool = Pool(X_tr, y_tr, cat_features=cat_idx)\n",
    "    valid_pool = Pool(X_val, y_val, cat_features=cat_idx)\n",
    "# Создаём специальные объекты `Pool` для CatBoost с указанием категориальных признаков.\n",
    "    model = CatBoostClassifier(**params)\n",
    "    model.fit(train_pool, eval_set=valid_pool, use_best_model=True)\n",
    "# 1. Создаём модель с нашими параметрами\n",
    "# 2. Обучаем её с валидацией и ранней остановкой\n",
    "    y_val_pred = model.predict(valid_pool).astype(object).ravel()\n",
    "    score = f1_score(y_val, y_val_pred, average=\"macro\")\n",
    "    fold_scores.append(score)\n",
    "    oof_pred[val_idx] = y_val_pred\n",
    "    fold_models.append(model)\n",
    "# 1. Делаем предсказания на валидационной части\n",
    "# 2. Вычисляем F1-score (метрику качества)\n",
    "# 3. Сохраняем результаты для общей оценки\n",
    "    print(f\"Fold {fold}: Macro F1 = {score:.5f} | best_iter={model.get_best_iteration()}\")"
   ]
  },
  {
   "cell_type": "markdown",
   "id": "b0d1dd35",
   "metadata": {},
   "source": [
    "Оценка результатов"
   ]
  },
  {
   "cell_type": "code",
   "execution_count": 15,
   "id": "3d753849",
   "metadata": {},
   "outputs": [
    {
     "name": "stdout",
     "output_type": "stream",
     "text": [
      "\n",
      "OOF Macro F1: 0.75410  (folds: ['0.7558', '0.7525'])\n",
      "Время обучения: 2.2 c\n",
      "\n",
      "Отчёт по классам (OOF):\n",
      "                     precision    recall  f1-score   support\n",
      "\n",
      "exoplanet_candidate     0.0192    0.1130    0.0329       230\n",
      "             galaxy     0.7175    0.9583    0.8206      3380\n",
      " main_sequence_star     0.9930    0.8988    0.9435     29000\n",
      "             quasar     0.9037    0.9443    0.9236      1580\n",
      "          red_giant     0.9657    0.9103    0.9372      7880\n",
      "        white_dwarf     0.7671    0.9962    0.8668      2930\n",
      "\n",
      "           accuracy                         0.9092     45000\n",
      "          macro avg     0.7277    0.8035    0.7541     45000\n",
      "       weighted avg     0.9447    0.9092    0.9228     45000\n",
      "\n",
      "\n",
      "Confusion matrix (OOF):\n"
     ]
    },
    {
     "data": {
      "text/html": [
       "<div>\n",
       "<style scoped>\n",
       "    .dataframe tbody tr th:only-of-type {\n",
       "        vertical-align: middle;\n",
       "    }\n",
       "\n",
       "    .dataframe tbody tr th {\n",
       "        vertical-align: top;\n",
       "    }\n",
       "\n",
       "    .dataframe thead th {\n",
       "        text-align: right;\n",
       "    }\n",
       "</style>\n",
       "<table border=\"1\" class=\"dataframe\">\n",
       "  <thead>\n",
       "    <tr style=\"text-align: right;\">\n",
       "      <th></th>\n",
       "      <th>pred_exoplanet_candidate</th>\n",
       "      <th>pred_galaxy</th>\n",
       "      <th>pred_main_sequence_star</th>\n",
       "      <th>pred_quasar</th>\n",
       "      <th>pred_red_giant</th>\n",
       "      <th>pred_white_dwarf</th>\n",
       "    </tr>\n",
       "  </thead>\n",
       "  <tbody>\n",
       "    <tr>\n",
       "      <th>true_exoplanet_candidate</th>\n",
       "      <td>26</td>\n",
       "      <td>0</td>\n",
       "      <td>169</td>\n",
       "      <td>0</td>\n",
       "      <td>0</td>\n",
       "      <td>35</td>\n",
       "    </tr>\n",
       "    <tr>\n",
       "      <th>true_galaxy</th>\n",
       "      <td>0</td>\n",
       "      <td>3239</td>\n",
       "      <td>0</td>\n",
       "      <td>129</td>\n",
       "      <td>8</td>\n",
       "      <td>4</td>\n",
       "    </tr>\n",
       "    <tr>\n",
       "      <th>true_main_sequence_star</th>\n",
       "      <td>1324</td>\n",
       "      <td>566</td>\n",
       "      <td>26066</td>\n",
       "      <td>13</td>\n",
       "      <td>247</td>\n",
       "      <td>784</td>\n",
       "    </tr>\n",
       "    <tr>\n",
       "      <th>true_quasar</th>\n",
       "      <td>0</td>\n",
       "      <td>58</td>\n",
       "      <td>0</td>\n",
       "      <td>1492</td>\n",
       "      <td>0</td>\n",
       "      <td>30</td>\n",
       "    </tr>\n",
       "    <tr>\n",
       "      <th>true_red_giant</th>\n",
       "      <td>1</td>\n",
       "      <td>650</td>\n",
       "      <td>16</td>\n",
       "      <td>7</td>\n",
       "      <td>7173</td>\n",
       "      <td>33</td>\n",
       "    </tr>\n",
       "    <tr>\n",
       "      <th>true_white_dwarf</th>\n",
       "      <td>0</td>\n",
       "      <td>1</td>\n",
       "      <td>0</td>\n",
       "      <td>10</td>\n",
       "      <td>0</td>\n",
       "      <td>2919</td>\n",
       "    </tr>\n",
       "  </tbody>\n",
       "</table>\n",
       "</div>"
      ],
      "text/plain": [
       "                          pred_exoplanet_candidate  pred_galaxy  \\\n",
       "true_exoplanet_candidate                        26            0   \n",
       "true_galaxy                                      0         3239   \n",
       "true_main_sequence_star                       1324          566   \n",
       "true_quasar                                      0           58   \n",
       "true_red_giant                                   1          650   \n",
       "true_white_dwarf                                 0            1   \n",
       "\n",
       "                          pred_main_sequence_star  pred_quasar  \\\n",
       "true_exoplanet_candidate                      169            0   \n",
       "true_galaxy                                     0          129   \n",
       "true_main_sequence_star                     26066           13   \n",
       "true_quasar                                     0         1492   \n",
       "true_red_giant                                 16            7   \n",
       "true_white_dwarf                                0           10   \n",
       "\n",
       "                          pred_red_giant  pred_white_dwarf  \n",
       "true_exoplanet_candidate               0                35  \n",
       "true_galaxy                            8                 4  \n",
       "true_main_sequence_star              247               784  \n",
       "true_quasar                            0                30  \n",
       "true_red_giant                      7173                33  \n",
       "true_white_dwarf                       0              2919  "
      ]
     },
     "metadata": {},
     "output_type": "display_data"
    }
   ],
   "source": [
    "oof_macro_f1 = f1_score(y, oof_pred, average=\"macro\")\n",
    "elapsed = time.time() - start_time\n",
    "print(f\"\\nOOF Macro F1: {oof_macro_f1:.5f}  (folds: {[f'{s:.4f}' for s in fold_scores]})\")\n",
    "print(f\"Время обучения: {elapsed:.1f} c\")\n",
    "# Вычисляем общую оценку качества и выводим результаты.\n",
    "# Это как честная оценка — каждый объект предсказывается моделью, которая его не видела при обучении.\n",
    "\n",
    "# Подробный отчёт по каждому классу (precision, recall, F1-score).\n",
    "print(\"\\nОтчёт по классам (OOF):\")\n",
    "print(classification_report(y, oof_pred, digits=4))\n",
    "\n",
    "# Матрица ошибок — показывает, какие классы путает модель.:\n",
    "labels_order = sorted(y.unique().tolist())\n",
    "cm = pd.DataFrame(confusion_matrix(y, oof_pred, labels=labels_order),\n",
    "                  index=[f\"true_{c}\" for c in labels_order],\n",
    "                  columns=[f\"pred_{c}\" for c in labels_order])\n",
    "print(\"\\nConfusion matrix (OOF):\")\n",
    "display(cm)"
   ]
  },
  {
   "cell_type": "markdown",
   "id": "0f09a329",
   "metadata": {},
   "source": [
    "Финальная модель"
   ]
  }
 ],
 "metadata": {
  "kernelspec": {
   "display_name": "Python 3",
   "language": "python",
   "name": "python3"
  },
  "language_info": {
   "codemirror_mode": {
    "name": "ipython",
    "version": 3
   },
   "file_extension": ".py",
   "mimetype": "text/x-python",
   "name": "python",
   "nbconvert_exporter": "python",
   "pygments_lexer": "ipython3",
   "version": "3.10.0"
  }
 },
 "nbformat": 4,
 "nbformat_minor": 5
}
