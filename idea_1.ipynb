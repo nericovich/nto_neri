{
 "cells": [
  {
   "cell_type": "markdown",
   "id": "cd69606c",
   "metadata": {},
   "source": [
    "топ\n",
    "\n",
    "0.973467824363582\n",
    "\n",
    "\n"
   ]
  },
  {
   "cell_type": "code",
   "execution_count": 38,
   "id": "3954e0bb",
   "metadata": {},
   "outputs": [],
   "source": [
    "import pandas as pd\n",
    "import numpy as np\n",
    "import lightgbm as lgb\n",
    "import optuna\n",
    "\n",
    "from sklearn.model_selection import StratifiedKFold\n",
    "from sklearn.preprocessing import LabelEncoder, StandardScaler\n",
    "from sklearn.metrics import f1_score\n",
    "from sklearn.impute import SimpleImputer\n",
    "from optuna.integration import LightGBMPruningCallback\n"
   ]
  },
  {
   "cell_type": "code",
   "execution_count": 39,
   "id": "bb92ebad",
   "metadata": {},
   "outputs": [],
   "source": [
    "train_df = pd.read_csv(\"train.csv\")\n",
    "test_df = pd.read_csv(\"test.csv\")\n",
    "sample_submission_df = pd.read_csv(\"sample_submission.csv\")\n",
    "\n",
    "target_col = \"type\"\n",
    "id_col = \"idx\"\n",
    "features = [c for c in train_df.columns if c not in [target_col, id_col]]\n",
    "\n",
    "X = train_df[features].copy()\n",
    "y = train_df[target_col].copy()\n",
    "X_test = test_df[features].copy()\n",
    "\n",
    "# ----------------- Категориальные -----------------\n",
    "cat_cols = X.select_dtypes(include=[\"object\", \"category\"]).columns.tolist()\n",
    "\n",
    "for col in cat_cols:\n",
    "    le = LabelEncoder()\n",
    "    combined = pd.concat([X[col], X_test[col]], axis=0).astype(str)\n",
    "    le.fit(combined)\n",
    "    X[col] = le.transform(X[col].astype(str))\n",
    "    X_test[col] = le.transform(X_test[col].astype(str))\n",
    "    X[col] = X[col].astype(\"category\")\n",
    "    X_test[col] = X_test[col].astype(\"category\")\n",
    "\n",
    "# ----------------- Числовые -----------------\n",
    "num_cols = X.select_dtypes(include=[np.number]).columns.tolist()\n",
    "\n",
    "imputer = SimpleImputer(strategy=\"median\")\n",
    "X[num_cols] = imputer.fit_transform(X[num_cols])\n",
    "X_test[num_cols] = imputer.transform(X_test[num_cols])\n",
    "\n",
    "scaler = StandardScaler()\n",
    "X[num_cols] = scaler.fit_transform(X[num_cols])\n",
    "X_test[num_cols] = scaler.transform(X_test[num_cols])\n",
    "\n",
    "# ----------------- Цель -----------------\n",
    "le_type = LabelEncoder()\n",
    "y_encoded = le_type.fit_transform(y)\n"
   ]
  },
  {
   "cell_type": "code",
   "execution_count": 40,
   "id": "1840117d",
   "metadata": {},
   "outputs": [],
   "source": [
    "def objective(trial, x_data, y_data, label_encoder):\n",
    "    params = {\n",
    "        \"objective\": \"multiclass\",\n",
    "        \"num_class\": len(label_encoder.classes_),\n",
    "        \"boosting_type\": \"gbdt\",\n",
    "        \"learning_rate\": trial.suggest_float(\"learning_rate\", 0.01, 0.1, log=True),\n",
    "        \"num_leaves\": trial.suggest_int(\"num_leaves\", 31, 256),\n",
    "        \"max_depth\": trial.suggest_int(\"max_depth\", 5, 15),\n",
    "        \"min_child_samples\": trial.suggest_int(\"min_child_samples\", 20, 100),\n",
    "        \"feature_fraction\": trial.suggest_float(\"feature_fraction\", 0.6, 1.0),\n",
    "        \"bagging_fraction\": trial.suggest_float(\"bagging_fraction\", 0.6, 1.0),\n",
    "        \"bagging_freq\": trial.suggest_int(\"bagging_freq\", 1, 7),\n",
    "        \"lambda_l1\": trial.suggest_float(\"lambda_l1\", 1e-8, 10.0, log=True),\n",
    "        \"lambda_l2\": trial.suggest_float(\"lambda_l2\", 1e-8, 10.0, log=True),\n",
    "        \"class_weight\": \"balanced\",\n",
    "        \"random_state\": 42,\n",
    "        \"n_jobs\": -1,\n",
    "        \"device\": \"gpu\",\n",
    "        \"verbose\": -1,\n",
    "    }\n",
    "\n",
    "    skf = StratifiedKFold(n_splits=5, shuffle=True, random_state=42)\n",
    "    scores = []\n",
    "\n",
    "    for train_idx, val_idx in skf.split(x_data, y_data):\n",
    "        X_train, X_val = x_data.iloc[train_idx], x_data.iloc[val_idx]\n",
    "        y_train, y_val = y_data[train_idx], y_data[val_idx]\n",
    "\n",
    "        model = lgb.LGBMClassifier(**params, n_estimators=5000)\n",
    "        callbacks = [lgb.early_stopping(stopping_rounds=200, verbose=False)]\n",
    "\n",
    "        model.fit(\n",
    "            X_train,\n",
    "            y_train,\n",
    "            eval_set=[(X_val, y_val)],\n",
    "            eval_metric=\"multi_logloss\",\n",
    "            callbacks=callbacks\n",
    "        )\n",
    "\n",
    "        y_val_pred = model.predict(X_val)\n",
    "        score = f1_score(y_val, y_val_pred, average=\"macro\")\n",
    "        scores.append(score)\n",
    "\n",
    "    return np.mean(scores)\n"
   ]
  },
  {
   "cell_type": "code",
   "execution_count": null,
   "id": "510afcea",
   "metadata": {},
   "outputs": [
    {
     "name": "stderr",
     "output_type": "stream",
     "text": [
      "[I 2025-09-23 22:13:49,280] A new study created in memory with name: no-name-d3599af9-f836-4940-b534-9b74af4ab1dd\n",
      "Best trial: 0. Best value: 0.967353:   1%|          | 1/100 [01:55<3:10:20, 115.35s/it]"
     ]
    },
    {
     "name": "stdout",
     "output_type": "stream",
     "text": [
      "[I 2025-09-23 22:15:44,633] Trial 0 finished with value: 0.9673527412693564 and parameters: {'learning_rate': 0.021849108543391206, 'num_leaves': 137, 'max_depth': 15, 'min_child_samples': 81, 'feature_fraction': 0.9727429338636502, 'bagging_fraction': 0.8448266696695111, 'bagging_freq': 7, 'lambda_l1': 1.7114893214981772, 'lambda_l2': 4.248333439344142e-05}. Best is trial 0 with value: 0.9673527412693564.\n"
     ]
    },
    {
     "name": "stderr",
     "output_type": "stream",
     "text": [
      "Best trial: 0. Best value: 0.967353:   2%|▏         | 2/100 [05:41<4:54:50, 180.51s/it]"
     ]
    },
    {
     "name": "stdout",
     "output_type": "stream",
     "text": [
      "[I 2025-09-23 22:19:30,756] Trial 1 finished with value: 0.9577386304638921 and parameters: {'learning_rate': 0.026601342240003156, 'num_leaves': 217, 'max_depth': 13, 'min_child_samples': 100, 'feature_fraction': 0.6364744691834523, 'bagging_fraction': 0.8326177873142135, 'bagging_freq': 7, 'lambda_l1': 2.428758112500822e-07, 'lambda_l2': 0.0005907253806134064}. Best is trial 0 with value: 0.9673527412693564.\n"
     ]
    },
    {
     "name": "stderr",
     "output_type": "stream",
     "text": [
      "Best trial: 0. Best value: 0.967353:   3%|▎         | 3/100 [06:34<3:18:02, 122.50s/it]"
     ]
    },
    {
     "name": "stdout",
     "output_type": "stream",
     "text": [
      "[I 2025-09-23 22:20:24,225] Trial 2 finished with value: 0.9602656579616493 and parameters: {'learning_rate': 0.09422503537433946, 'num_leaves': 101, 'max_depth': 10, 'min_child_samples': 35, 'feature_fraction': 0.9389626773799298, 'bagging_fraction': 0.681230418522589, 'bagging_freq': 1, 'lambda_l1': 5.5454015267126454e-08, 'lambda_l2': 0.0013247869197862685}. Best is trial 0 with value: 0.9673527412693564.\n"
     ]
    },
    {
     "name": "stderr",
     "output_type": "stream",
     "text": [
      "Best trial: 3. Best value: 0.96938:   4%|▍         | 4/100 [09:45<3:58:54, 149.31s/it] "
     ]
    },
    {
     "name": "stdout",
     "output_type": "stream",
     "text": [
      "[I 2025-09-23 22:23:34,642] Trial 3 finished with value: 0.9693799469203546 and parameters: {'learning_rate': 0.024972800110369953, 'num_leaves': 76, 'max_depth': 7, 'min_child_samples': 81, 'feature_fraction': 0.7786486333452712, 'bagging_fraction': 0.6840035543431486, 'bagging_freq': 5, 'lambda_l1': 6.530707787210215e-05, 'lambda_l2': 0.09275801659228489}. Best is trial 3 with value: 0.9693799469203546.\n"
     ]
    },
    {
     "name": "stderr",
     "output_type": "stream",
     "text": [
      "Best trial: 3. Best value: 0.96938:   5%|▌         | 5/100 [11:00<3:14:08, 122.62s/it]"
     ]
    },
    {
     "name": "stdout",
     "output_type": "stream",
     "text": [
      "[I 2025-09-23 22:24:49,925] Trial 4 finished with value: 0.9685204102458369 and parameters: {'learning_rate': 0.05389266216894578, 'num_leaves': 83, 'max_depth': 6, 'min_child_samples': 99, 'feature_fraction': 0.9752108912262414, 'bagging_fraction': 0.6144388161435722, 'bagging_freq': 7, 'lambda_l1': 2.1869860414936966e-06, 'lambda_l2': 0.0020922062395369663}. Best is trial 3 with value: 0.9693799469203546.\n"
     ]
    },
    {
     "name": "stderr",
     "output_type": "stream",
     "text": [
      "Best trial: 3. Best value: 0.96938:   6%|▌         | 6/100 [11:59<2:37:59, 100.84s/it]"
     ]
    },
    {
     "name": "stdout",
     "output_type": "stream",
     "text": [
      "[I 2025-09-23 22:25:48,505] Trial 5 finished with value: 0.9690807989680843 and parameters: {'learning_rate': 0.08187268112945822, 'num_leaves': 234, 'max_depth': 14, 'min_child_samples': 89, 'feature_fraction': 0.9526496981280254, 'bagging_fraction': 0.7829196205508802, 'bagging_freq': 6, 'lambda_l1': 0.004318100478243591, 'lambda_l2': 1.1680225346705715e-06}. Best is trial 3 with value: 0.9693799469203546.\n"
     ]
    },
    {
     "name": "stderr",
     "output_type": "stream",
     "text": [
      "Best trial: 3. Best value: 0.96938:   7%|▋         | 7/100 [13:01<2:16:32, 88.09s/it] "
     ]
    },
    {
     "name": "stdout",
     "output_type": "stream",
     "text": [
      "[I 2025-09-23 22:26:50,342] Trial 6 finished with value: 0.9679948916114842 and parameters: {'learning_rate': 0.052871051277306125, 'num_leaves': 43, 'max_depth': 5, 'min_child_samples': 87, 'feature_fraction': 0.8933391158948378, 'bagging_fraction': 0.8833245371511258, 'bagging_freq': 6, 'lambda_l1': 9.670797229729346e-07, 'lambda_l2': 0.0008549114125932369}. Best is trial 3 with value: 0.9693799469203546.\n"
     ]
    },
    {
     "name": "stderr",
     "output_type": "stream",
     "text": [
      "Best trial: 3. Best value: 0.96938:   8%|▊         | 8/100 [19:23<4:38:32, 181.66s/it]"
     ]
    },
    {
     "name": "stdout",
     "output_type": "stream",
     "text": [
      "[I 2025-09-23 22:33:12,348] Trial 7 finished with value: 0.9688526419730519 and parameters: {'learning_rate': 0.014586248066398175, 'num_leaves': 46, 'max_depth': 14, 'min_child_samples': 41, 'feature_fraction': 0.9420956744528112, 'bagging_fraction': 0.8136586899802694, 'bagging_freq': 3, 'lambda_l1': 3.871276080766659e-08, 'lambda_l2': 0.2947597165971815}. Best is trial 3 with value: 0.9693799469203546.\n"
     ]
    },
    {
     "name": "stderr",
     "output_type": "stream",
     "text": [
      "Best trial: 8. Best value: 0.972014:   9%|▉         | 9/100 [19:53<3:23:52, 134.42s/it]"
     ]
    },
    {
     "name": "stdout",
     "output_type": "stream",
     "text": [
      "[I 2025-09-23 22:33:42,892] Trial 8 finished with value: 0.9720139559775168 and parameters: {'learning_rate': 0.08376359839523724, 'num_leaves': 53, 'max_depth': 9, 'min_child_samples': 81, 'feature_fraction': 0.9998898046058289, 'bagging_fraction': 0.7652886823209931, 'bagging_freq': 4, 'lambda_l1': 0.5308273031259617, 'lambda_l2': 9.219057765990032e-05}. Best is trial 8 with value: 0.9720139559775168.\n"
     ]
    },
    {
     "name": "stderr",
     "output_type": "stream",
     "text": [
      "Best trial: 9. Best value: 0.972055:  10%|█         | 10/100 [21:34<3:06:06, 124.07s/it]"
     ]
    },
    {
     "name": "stdout",
     "output_type": "stream",
     "text": [
      "[I 2025-09-23 22:35:23,787] Trial 9 finished with value: 0.9720550041663877 and parameters: {'learning_rate': 0.0327995558096163, 'num_leaves': 178, 'max_depth': 5, 'min_child_samples': 97, 'feature_fraction': 0.8192874600761355, 'bagging_fraction': 0.7207594767474337, 'bagging_freq': 5, 'lambda_l1': 1.0120523890018084e-06, 'lambda_l2': 0.013560839341370652}. Best is trial 9 with value: 0.9720550041663877.\n"
     ]
    },
    {
     "name": "stderr",
     "output_type": "stream",
     "text": [
      "Best trial: 9. Best value: 0.972055:  11%|█         | 11/100 [28:33<5:18:00, 214.39s/it]"
     ]
    },
    {
     "name": "stdout",
     "output_type": "stream",
     "text": [
      "[I 2025-09-23 22:42:22,961] Trial 10 finished with value: 0.9603721960772719 and parameters: {'learning_rate': 0.010678195817604742, 'num_leaves': 187, 'max_depth': 9, 'min_child_samples': 59, 'feature_fraction': 0.7894454651611916, 'bagging_fraction': 0.960351333010392, 'bagging_freq': 2, 'lambda_l1': 0.00013680476019874418, 'lambda_l2': 1.1550563996685883e-08}. Best is trial 9 with value: 0.9720550041663877.\n"
     ]
    },
    {
     "name": "stderr",
     "output_type": "stream",
     "text": [
      "Best trial: 9. Best value: 0.972055:  12%|█▏        | 12/100 [29:28<4:03:21, 165.93s/it]"
     ]
    },
    {
     "name": "stdout",
     "output_type": "stream",
     "text": [
      "[I 2025-09-23 22:43:18,048] Trial 11 finished with value: 0.9644874953327255 and parameters: {'learning_rate': 0.04591677125696931, 'num_leaves': 160, 'max_depth': 9, 'min_child_samples': 66, 'feature_fraction': 0.6834415932140516, 'bagging_fraction': 0.7359547498822084, 'bagging_freq': 4, 'lambda_l1': 4.676499520482486, 'lambda_l2': 2.762448042693178}. Best is trial 9 with value: 0.9720550041663877.\n"
     ]
    },
    {
     "name": "stderr",
     "output_type": "stream",
     "text": [
      "Best trial: 9. Best value: 0.972055:  13%|█▎        | 13/100 [31:19<3:36:28, 149.30s/it]"
     ]
    },
    {
     "name": "stdout",
     "output_type": "stream",
     "text": [
      "[I 2025-09-23 22:45:09,080] Trial 12 finished with value: 0.9674507636123583 and parameters: {'learning_rate': 0.037363453009626534, 'num_leaves': 134, 'max_depth': 11, 'min_child_samples': 66, 'feature_fraction': 0.8697452307029877, 'bagging_fraction': 0.7406808535294875, 'bagging_freq': 4, 'lambda_l1': 0.033921134489329506, 'lambda_l2': 1.1057585315732181e-05}. Best is trial 9 with value: 0.9720550041663877.\n"
     ]
    },
    {
     "name": "stderr",
     "output_type": "stream",
     "text": [
      "Best trial: 9. Best value: 0.972055:  14%|█▍        | 14/100 [32:05<2:49:09, 118.02s/it]"
     ]
    },
    {
     "name": "stdout",
     "output_type": "stream",
     "text": [
      "[I 2025-09-23 22:45:54,823] Trial 13 finished with value: 0.9717266763227915 and parameters: {'learning_rate': 0.07562316585273691, 'num_leaves': 190, 'max_depth': 7, 'min_child_samples': 74, 'feature_fraction': 0.7155829364178645, 'bagging_fraction': 0.6243377169489558, 'bagging_freq': 4, 'lambda_l1': 0.07284957457031353, 'lambda_l2': 0.03809998908735586}. Best is trial 9 with value: 0.9720550041663877.\n"
     ]
    },
    {
     "name": "stderr",
     "output_type": "stream",
     "text": [
      "Best trial: 9. Best value: 0.972055:  15%|█▌        | 15/100 [33:32<2:34:02, 108.73s/it]"
     ]
    },
    {
     "name": "stdout",
     "output_type": "stream",
     "text": [
      "[I 2025-09-23 22:47:22,038] Trial 14 finished with value: 0.9687954792411262 and parameters: {'learning_rate': 0.037367039325804416, 'num_leaves': 112, 'max_depth': 5, 'min_child_samples': 52, 'feature_fraction': 0.8650832433586867, 'bagging_fraction': 0.7439899012066231, 'bagging_freq': 5, 'lambda_l1': 1.2169825606543085e-05, 'lambda_l2': 4.794544198197358e-07}. Best is trial 9 with value: 0.9720550041663877.\n"
     ]
    },
    {
     "name": "stderr",
     "output_type": "stream",
     "text": [
      "Best trial: 9. Best value: 0.972055:  16%|█▌        | 16/100 [37:26<3:24:59, 146.42s/it]"
     ]
    },
    {
     "name": "stdout",
     "output_type": "stream",
     "text": [
      "[I 2025-09-23 22:51:15,966] Trial 15 finished with value: 0.9615573247827405 and parameters: {'learning_rate': 0.018489625240991105, 'num_leaves': 255, 'max_depth': 12, 'min_child_samples': 92, 'feature_fraction': 0.8338861871178815, 'bagging_fraction': 0.9087096004699076, 'bagging_freq': 3, 'lambda_l1': 0.001853371976979508, 'lambda_l2': 0.0129536102652009}. Best is trial 9 with value: 0.9720550041663877.\n"
     ]
    },
    {
     "name": "stderr",
     "output_type": "stream",
     "text": [
      "Best trial: 16. Best value: 0.973541:  17%|█▋        | 17/100 [38:11<2:40:12, 115.81s/it]"
     ]
    },
    {
     "name": "stdout",
     "output_type": "stream",
     "text": [
      "[I 2025-09-23 22:52:00,594] Trial 16 finished with value: 0.9735412625947151 and parameters: {'learning_rate': 0.06442461427093256, 'num_leaves': 170, 'max_depth': 8, 'min_child_samples': 74, 'feature_fraction': 0.7284726465683988, 'bagging_fraction': 0.6827946545922627, 'bagging_freq': 5, 'lambda_l1': 0.38745930871732714, 'lambda_l2': 4.697408149950161e-05}. Best is trial 16 with value: 0.9735412625947151.\n"
     ]
    },
    {
     "name": "stderr",
     "output_type": "stream",
     "text": [
      "Best trial: 16. Best value: 0.973541:  18%|█▊        | 18/100 [45:34<4:52:38, 214.13s/it]"
     ]
    },
    {
     "name": "stdout",
     "output_type": "stream",
     "text": [
      "[I 2025-09-23 22:59:23,590] Trial 17 finished with value: 0.9734376386255656 and parameters: {'learning_rate': 0.05994888667438837, 'num_leaves': 174, 'max_depth': 7, 'min_child_samples': 21, 'feature_fraction': 0.74289812800794, 'bagging_fraction': 0.6682018508211532, 'bagging_freq': 5, 'lambda_l1': 0.0018057946369378604, 'lambda_l2': 9.629934658526553}. Best is trial 16 with value: 0.9735412625947151.\n"
     ]
    },
    {
     "name": "stderr",
     "output_type": "stream",
     "text": [
      "Best trial: 16. Best value: 0.973541:  19%|█▉        | 19/100 [47:27<4:07:57, 183.67s/it]"
     ]
    },
    {
     "name": "stdout",
     "output_type": "stream",
     "text": [
      "[I 2025-09-23 23:01:16,323] Trial 18 finished with value: 0.9715535557107277 and parameters: {'learning_rate': 0.06739672752603616, 'num_leaves': 211, 'max_depth': 8, 'min_child_samples': 47, 'feature_fraction': 0.7331908636390893, 'bagging_fraction': 0.6720502079837393, 'bagging_freq': 6, 'lambda_l1': 0.12040086797204759, 'lambda_l2': 2.40552811373573}. Best is trial 16 with value: 0.9735412625947151.\n"
     ]
    },
    {
     "name": "stderr",
     "output_type": "stream",
     "text": [
      "Best trial: 16. Best value: 0.973541:  20%|██        | 20/100 [48:43<3:21:54, 151.43s/it]"
     ]
    },
    {
     "name": "stdout",
     "output_type": "stream",
     "text": [
      "[I 2025-09-23 23:02:32,589] Trial 19 finished with value: 0.9601442936116709 and parameters: {'learning_rate': 0.06334818949301094, 'num_leaves': 165, 'max_depth': 7, 'min_child_samples': 24, 'feature_fraction': 0.6074135727619618, 'bagging_fraction': 0.6541448872152353, 'bagging_freq': 3, 'lambda_l1': 0.003742020775193001, 'lambda_l2': 8.376319816549123e-06}. Best is trial 16 with value: 0.9735412625947151.\n"
     ]
    },
    {
     "name": "stderr",
     "output_type": "stream",
     "text": [
      "Best trial: 16. Best value: 0.973541:  21%|██        | 21/100 [50:41<3:06:09, 141.39s/it]"
     ]
    },
    {
     "name": "stdout",
     "output_type": "stream",
     "text": [
      "[I 2025-09-23 23:04:30,583] Trial 20 finished with value: 0.9572247090993764 and parameters: {'learning_rate': 0.04605720665759358, 'num_leaves': 150, 'max_depth': 8, 'min_child_samples': 20, 'feature_fraction': 0.7491373530897778, 'bagging_fraction': 0.6001765806938824, 'bagging_freq': 5, 'lambda_l1': 0.0008670115210647249, 'lambda_l2': 1.735463071591537e-08}. Best is trial 16 with value: 0.9735412625947151.\n"
     ]
    },
    {
     "name": "stderr",
     "output_type": "stream",
     "text": [
      "Best trial: 16. Best value: 0.973541:  22%|██▏       | 22/100 [53:43<3:19:39, 153.59s/it]"
     ]
    },
    {
     "name": "stdout",
     "output_type": "stream",
     "text": [
      "[I 2025-09-23 23:07:32,621] Trial 21 finished with value: 0.9716750173058962 and parameters: {'learning_rate': 0.03553546115376805, 'num_leaves': 183, 'max_depth': 6, 'min_child_samples': 33, 'feature_fraction': 0.6813307101407939, 'bagging_fraction': 0.7148200114951652, 'bagging_freq': 5, 'lambda_l1': 1.3876306389448806e-05, 'lambda_l2': 0.7351387927550647}. Best is trial 16 with value: 0.9735412625947151.\n"
     ]
    },
    {
     "name": "stderr",
     "output_type": "stream",
     "text": [
      "Best trial: 16. Best value: 0.973541:  23%|██▎       | 23/100 [54:56<2:46:08, 129.47s/it]"
     ]
    },
    {
     "name": "stdout",
     "output_type": "stream",
     "text": [
      "[I 2025-09-23 23:08:45,824] Trial 22 finished with value: 0.9660812360045206 and parameters: {'learning_rate': 0.06262100883342607, 'num_leaves': 173, 'max_depth': 6, 'min_child_samples': 70, 'feature_fraction': 0.8263271018937429, 'bagging_fraction': 0.6524538616401274, 'bagging_freq': 6, 'lambda_l1': 1.2860741070174587e-08, 'lambda_l2': 0.016592155122495254}. Best is trial 16 with value: 0.9735412625947151.\n"
     ]
    },
    {
     "name": "stderr",
     "output_type": "stream",
     "text": [
      "Best trial: 16. Best value: 0.973541:  24%|██▍       | 24/100 [56:47<2:36:58, 123.92s/it]"
     ]
    },
    {
     "name": "stdout",
     "output_type": "stream",
     "text": [
      "[I 2025-09-23 23:10:36,822] Trial 23 finished with value: 0.970903029720066 and parameters: {'learning_rate': 0.030830285113216366, 'num_leaves': 206, 'max_depth': 5, 'min_child_samples': 57, 'feature_fraction': 0.7656991915464594, 'bagging_fraction': 0.7100879825299861, 'bagging_freq': 5, 'lambda_l1': 0.020817833663211955, 'lambda_l2': 0.003903779341908598}. Best is trial 16 with value: 0.9735412625947151.\n"
     ]
    },
    {
     "name": "stderr",
     "output_type": "stream",
     "text": [
      "Best trial: 16. Best value: 0.973541:  25%|██▌       | 25/100 [1:00:23<3:09:34, 151.66s/it]"
     ]
    },
    {
     "name": "stdout",
     "output_type": "stream",
     "text": [
      "[I 2025-09-23 23:14:13,175] Trial 24 finished with value: 0.9722123462921554 and parameters: {'learning_rate': 0.04574195625476767, 'num_leaves': 130, 'max_depth': 8, 'min_child_samples': 74, 'feature_fraction': 0.814258584486202, 'bagging_fraction': 0.7092590858964165, 'bagging_freq': 6, 'lambda_l1': 0.39089857260493427, 'lambda_l2': 7.106040562310117}. Best is trial 16 with value: 0.9735412625947151.\n"
     ]
    },
    {
     "name": "stderr",
     "output_type": "stream",
     "text": [
      "Best trial: 16. Best value: 0.973541:  26%|██▌       | 26/100 [1:02:29<2:57:19, 143.77s/it]"
     ]
    },
    {
     "name": "stdout",
     "output_type": "stream",
     "text": [
      "[I 2025-09-23 23:16:18,552] Trial 25 finished with value: 0.9719380184879691 and parameters: {'learning_rate': 0.0497216449264495, 'num_leaves': 124, 'max_depth': 8, 'min_child_samples': 74, 'feature_fraction': 0.7061394263325342, 'bagging_fraction': 0.6420877685125571, 'bagging_freq': 6, 'lambda_l1': 1.1117898084687583, 'lambda_l2': 7.98926885245721}. Best is trial 16 with value: 0.9735412625947151.\n"
     ]
    },
    {
     "name": "stderr",
     "output_type": "stream",
     "text": [
      "Best trial: 16. Best value: 0.973541:  27%|██▋       | 27/100 [1:02:51<2:10:33, 107.31s/it]"
     ]
    },
    {
     "name": "stdout",
     "output_type": "stream",
     "text": [
      "[I 2025-09-23 23:16:40,777] Trial 26 finished with value: 0.9581914216596248 and parameters: {'learning_rate': 0.09902976337089876, 'num_leaves': 146, 'max_depth': 10, 'min_child_samples': 63, 'feature_fraction': 0.6720487613157002, 'bagging_fraction': 0.6807136887972719, 'bagging_freq': 6, 'lambda_l1': 8.043565154364043, 'lambda_l2': 0.23455290186826883}. Best is trial 16 with value: 0.9735412625947151.\n"
     ]
    },
    {
     "name": "stderr",
     "output_type": "stream",
     "text": [
      "Best trial: 16. Best value: 0.973541:  28%|██▊       | 28/100 [1:06:57<2:58:36, 148.84s/it]"
     ]
    },
    {
     "name": "stdout",
     "output_type": "stream",
     "text": [
      "[I 2025-09-23 23:20:46,524] Trial 27 finished with value: 0.9702757130219887 and parameters: {'learning_rate': 0.04030416119375996, 'num_leaves': 116, 'max_depth': 11, 'min_child_samples': 52, 'feature_fraction': 0.7527909843026677, 'bagging_fraction': 0.7704958617206059, 'bagging_freq': 7, 'lambda_l1': 0.45507220878152044, 'lambda_l2': 8.03541848634814}. Best is trial 16 with value: 0.9735412625947151.\n"
     ]
    },
    {
     "name": "stderr",
     "output_type": "stream",
     "text": [
      "Best trial: 16. Best value: 0.973541:  29%|██▉       | 29/100 [1:08:11<2:29:32, 126.38s/it]"
     ]
    },
    {
     "name": "stdout",
     "output_type": "stream",
     "text": [
      "[I 2025-09-23 23:22:00,494] Trial 28 finished with value: 0.9687180775110795 and parameters: {'learning_rate': 0.059263937105497544, 'num_leaves': 156, 'max_depth': 8, 'min_child_samples': 75, 'feature_fraction': 0.8054774818724844, 'bagging_fraction': 0.6947172842810057, 'bagging_freq': 4, 'lambda_l1': 0.018769116182688325, 'lambda_l2': 0.00018728542775060545}. Best is trial 16 with value: 0.9735412625947151.\n"
     ]
    },
    {
     "name": "stderr",
     "output_type": "stream",
     "text": [
      "Best trial: 16. Best value: 0.973541:  30%|███       | 30/100 [1:09:33<2:11:58, 113.12s/it]"
     ]
    },
    {
     "name": "stdout",
     "output_type": "stream",
     "text": [
      "[I 2025-09-23 23:23:22,670] Trial 29 finished with value: 0.9720486024017004 and parameters: {'learning_rate': 0.04273863037093117, 'num_leaves': 137, 'max_depth': 7, 'min_child_samples': 80, 'feature_fraction': 0.7238682880175047, 'bagging_fraction': 0.635461444692127, 'bagging_freq': 7, 'lambda_l1': 0.1790740363117544, 'lambda_l2': 1.1207052823311293e-05}. Best is trial 16 with value: 0.9735412625947151.\n"
     ]
    },
    {
     "name": "stderr",
     "output_type": "stream",
     "text": [
      "Best trial: 16. Best value: 0.973541:  31%|███       | 31/100 [1:10:06<1:42:31, 89.16s/it] "
     ]
    },
    {
     "name": "stdout",
     "output_type": "stream",
     "text": [
      "[I 2025-09-23 23:23:55,917] Trial 30 finished with value: 0.9651788152825826 and parameters: {'learning_rate': 0.07501405414821066, 'num_leaves': 99, 'max_depth': 9, 'min_child_samples': 30, 'feature_fraction': 0.6489474282735701, 'bagging_fraction': 0.9939040387760145, 'bagging_freq': 5, 'lambda_l1': 2.2021923968063053, 'lambda_l2': 0.9964300850388158}. Best is trial 16 with value: 0.9735412625947151.\n"
     ]
    },
    {
     "name": "stderr",
     "output_type": "stream",
     "text": [
      "Best trial: 16. Best value: 0.973541:  32%|███▏      | 32/100 [1:12:08<1:52:15, 99.06s/it]"
     ]
    },
    {
     "name": "stdout",
     "output_type": "stream",
     "text": [
      "[I 2025-09-23 23:25:58,078] Trial 31 finished with value: 0.9691380710302745 and parameters: {'learning_rate': 0.03351472749335417, 'num_leaves': 173, 'max_depth': 6, 'min_child_samples': 93, 'feature_fraction': 0.8117725882181059, 'bagging_fraction': 0.7246582685989535, 'bagging_freq': 5, 'lambda_l1': 0.0003877471734331432, 'lambda_l2': 2.987018854287568e-05}. Best is trial 16 with value: 0.9735412625947151.\n"
     ]
    },
    {
     "name": "stderr",
     "output_type": "stream",
     "text": [
      "Best trial: 16. Best value: 0.973541:  33%|███▎      | 33/100 [1:15:01<2:15:18, 121.17s/it]"
     ]
    },
    {
     "name": "stdout",
     "output_type": "stream",
     "text": [
      "[I 2025-09-23 23:28:50,852] Trial 32 finished with value: 0.9693134187897712 and parameters: {'learning_rate': 0.02958404918021472, 'num_leaves': 197, 'max_depth': 7, 'min_child_samples': 86, 'feature_fraction': 0.8499124864141546, 'bagging_fraction': 0.8011729374759773, 'bagging_freq': 6, 'lambda_l1': 0.010003761599131149, 'lambda_l2': 0.2083676609034846}. Best is trial 16 with value: 0.9735412625947151.\n"
     ]
    },
    {
     "name": "stderr",
     "output_type": "stream",
     "text": [
      "Best trial: 16. Best value: 0.973541:  34%|███▍      | 34/100 [1:18:09<2:35:23, 141.27s/it]"
     ]
    },
    {
     "name": "stdout",
     "output_type": "stream",
     "text": [
      "[I 2025-09-23 23:31:59,020] Trial 33 finished with value: 0.9694815329505856 and parameters: {'learning_rate': 0.021373387658484656, 'num_leaves': 180, 'max_depth': 6, 'min_child_samples': 97, 'feature_fraction': 0.8928261197449635, 'bagging_fraction': 0.7039491775133866, 'bagging_freq': 5, 'lambda_l1': 3.983888347577339e-05, 'lambda_l2': 1.3991774573984027e-06}. Best is trial 16 with value: 0.9735412625947151.\n"
     ]
    },
    {
     "name": "stderr",
     "output_type": "stream",
     "text": [
      "Best trial: 16. Best value: 0.973541:  35%|███▌      | 35/100 [1:20:29<2:32:27, 140.73s/it]"
     ]
    },
    {
     "name": "stdout",
     "output_type": "stream",
     "text": [
      "[I 2025-09-23 23:34:18,482] Trial 34 finished with value: 0.9691764182468738 and parameters: {'learning_rate': 0.02554933948549627, 'num_leaves': 128, 'max_depth': 5, 'min_child_samples': 41, 'feature_fraction': 0.7791868629314259, 'bagging_fraction': 0.6605179233588456, 'bagging_freq': 4, 'lambda_l1': 6.945343117717226e-07, 'lambda_l2': 0.0004423512733884751}. Best is trial 16 with value: 0.9735412625947151.\n"
     ]
    },
    {
     "name": "stderr",
     "output_type": "stream",
     "text": [
      "Best trial: 16. Best value: 0.973541:  36%|███▌      | 36/100 [1:22:08<2:16:47, 128.25s/it]"
     ]
    },
    {
     "name": "stdout",
     "output_type": "stream",
     "text": [
      "[I 2025-09-23 23:35:57,606] Trial 35 finished with value: 0.9618573103493524 and parameters: {'learning_rate': 0.05876820738201433, 'num_leaves': 231, 'max_depth': 8, 'min_child_samples': 78, 'feature_fraction': 0.7955979299566885, 'bagging_fraction': 0.7554515867623197, 'bagging_freq': 7, 'lambda_l1': 6.825096252373445e-06, 'lambda_l2': 0.005948380112580948}. Best is trial 16 with value: 0.9735412625947151.\n"
     ]
    },
    {
     "name": "stderr",
     "output_type": "stream",
     "text": [
      "Best trial: 36. Best value: 0.973921:  37%|███▋      | 37/100 [1:23:56<2:08:11, 122.09s/it]"
     ]
    },
    {
     "name": "stdout",
     "output_type": "stream",
     "text": [
      "[I 2025-09-23 23:37:45,331] Trial 36 finished with value: 0.9739213147950416 and parameters: {'learning_rate': 0.05144567764734568, 'num_leaves': 226, 'max_depth': 7, 'min_child_samples': 84, 'feature_fraction': 0.7591213850393971, 'bagging_fraction': 0.6927150705950081, 'bagging_freq': 1, 'lambda_l1': 0.3629904544957689, 'lambda_l2': 1.5740401029489228}. Best is trial 36 with value: 0.9739213147950416.\n"
     ]
    },
    {
     "name": "stderr",
     "output_type": "stream",
     "text": [
      "Best trial: 36. Best value: 0.973921:  38%|███▊      | 38/100 [1:25:15<1:53:01, 109.38s/it]"
     ]
    },
    {
     "name": "stdout",
     "output_type": "stream",
     "text": [
      "[I 2025-09-23 23:39:05,057] Trial 37 finished with value: 0.9704630904603908 and parameters: {'learning_rate': 0.07066376644150696, 'num_leaves': 225, 'max_depth': 10, 'min_child_samples': 84, 'feature_fraction': 0.7440571421216727, 'bagging_fraction': 0.86103185541131, 'bagging_freq': 1, 'lambda_l1': 0.40291880612975306, 'lambda_l2': 2.192040640917807}. Best is trial 36 with value: 0.9739213147950416.\n"
     ]
    },
    {
     "name": "stderr",
     "output_type": "stream",
     "text": [
      "Best trial: 36. Best value: 0.973921:  39%|███▉      | 39/100 [1:26:47<1:45:41, 103.96s/it]"
     ]
    },
    {
     "name": "stdout",
     "output_type": "stream",
     "text": [
      "[I 2025-09-23 23:40:36,361] Trial 38 finished with value: 0.9708480731955937 and parameters: {'learning_rate': 0.053136135882767214, 'num_leaves': 252, 'max_depth': 7, 'min_child_samples': 68, 'feature_fraction': 0.6937737513838375, 'bagging_fraction': 0.6855723208579506, 'bagging_freq': 1, 'lambda_l1': 2.591098031968196, 'lambda_l2': 0.05923164378618115}. Best is trial 36 with value: 0.9739213147950416.\n"
     ]
    },
    {
     "name": "stderr",
     "output_type": "stream",
     "text": [
      "Best trial: 39. Best value: 0.975239:  40%|████      | 40/100 [1:31:50<2:43:50, 163.85s/it]"
     ]
    },
    {
     "name": "stdout",
     "output_type": "stream",
     "text": [
      "[I 2025-09-23 23:45:39,951] Trial 39 finished with value: 0.9752389216373695 and parameters: {'learning_rate': 0.08979869667306886, 'num_leaves': 85, 'max_depth': 9, 'min_child_samples': 71, 'feature_fraction': 0.7680166204925114, 'bagging_fraction': 0.6072274028862782, 'bagging_freq': 2, 'lambda_l1': 0.0638517414534337, 'lambda_l2': 9.143273361699189}. Best is trial 39 with value: 0.9752389216373695.\n"
     ]
    },
    {
     "name": "stderr",
     "output_type": "stream",
     "text": [
      "Best trial: 39. Best value: 0.975239:  41%|████      | 41/100 [1:33:57<2:30:12, 152.76s/it]"
     ]
    },
    {
     "name": "stdout",
     "output_type": "stream",
     "text": [
      "[I 2025-09-23 23:47:46,849] Trial 40 finished with value: 0.9725181609154566 and parameters: {'learning_rate': 0.08889540297681643, 'num_leaves': 76, 'max_depth': 9, 'min_child_samples': 83, 'feature_fraction': 0.7661918245979066, 'bagging_fraction': 0.6051240894208905, 'bagging_freq': 2, 'lambda_l1': 0.00671919197419942, 'lambda_l2': 0.8141759915656276}. Best is trial 39 with value: 0.9752389216373695.\n"
     ]
    },
    {
     "name": "stderr",
     "output_type": "stream",
     "text": [
      "Best trial: 39. Best value: 0.975239:  42%|████▏     | 42/100 [1:35:42<2:13:41, 138.30s/it]"
     ]
    },
    {
     "name": "stdout",
     "output_type": "stream",
     "text": [
      "[I 2025-09-23 23:49:31,390] Trial 41 finished with value: 0.9719784140728944 and parameters: {'learning_rate': 0.08622099971840914, 'num_leaves': 75, 'max_depth': 9, 'min_child_samples': 83, 'feature_fraction': 0.7695070616370423, 'bagging_fraction': 0.6110526908358369, 'bagging_freq': 2, 'lambda_l1': 0.04914891470649847, 'lambda_l2': 0.8486116561881699}. Best is trial 39 with value: 0.9752389216373695.\n"
     ]
    },
    {
     "name": "stderr",
     "output_type": "stream",
     "text": [
      "Best trial: 39. Best value: 0.975239:  43%|████▎     | 43/100 [1:37:37<2:04:49, 131.39s/it]"
     ]
    },
    {
     "name": "stdout",
     "output_type": "stream",
     "text": [
      "[I 2025-09-23 23:51:26,672] Trial 42 finished with value: 0.970373136703153 and parameters: {'learning_rate': 0.09020546734818956, 'num_leaves': 84, 'max_depth': 11, 'min_child_samples': 89, 'feature_fraction': 0.7316399166309259, 'bagging_fraction': 0.6239109682194545, 'bagging_freq': 2, 'lambda_l1': 0.005014512259216933, 'lambda_l2': 0.4469162884491355}. Best is trial 39 with value: 0.9752389216373695.\n"
     ]
    },
    {
     "name": "stderr",
     "output_type": "stream",
     "text": [
      "Best trial: 39. Best value: 0.975239:  44%|████▍     | 44/100 [1:39:16<1:53:40, 121.80s/it]"
     ]
    },
    {
     "name": "stdout",
     "output_type": "stream",
     "text": [
      "[I 2025-09-23 23:53:06,074] Trial 43 finished with value: 0.9742431853805963 and parameters: {'learning_rate': 0.08058796455913272, 'num_leaves': 72, 'max_depth': 10, 'min_child_samples': 71, 'feature_fraction': 0.7662396661297425, 'bagging_fraction': 0.6009787244946042, 'bagging_freq': 1, 'lambda_l1': 0.16088824866173737, 'lambda_l2': 2.5265604031112594}. Best is trial 39 with value: 0.9752389216373695.\n"
     ]
    },
    {
     "name": "stderr",
     "output_type": "stream",
     "text": [
      "Best trial: 39. Best value: 0.975239:  45%|████▌     | 45/100 [1:41:06<1:48:17, 118.13s/it]"
     ]
    },
    {
     "name": "stdout",
     "output_type": "stream",
     "text": [
      "[I 2025-09-23 23:54:55,668] Trial 44 finished with value: 0.9723694531848313 and parameters: {'learning_rate': 0.07977916038259832, 'num_leaves': 59, 'max_depth': 10, 'min_child_samples': 71, 'feature_fraction': 0.7036457678136802, 'bagging_fraction': 0.6282434037804285, 'bagging_freq': 1, 'lambda_l1': 0.19305440374518434, 'lambda_l2': 3.4805540699199606}. Best is trial 39 with value: 0.9752389216373695.\n"
     ]
    },
    {
     "name": "stderr",
     "output_type": "stream",
     "text": [
      "Best trial: 39. Best value: 0.975239:  46%|████▌     | 46/100 [1:42:09<1:31:23, 101.54s/it]"
     ]
    },
    {
     "name": "stdout",
     "output_type": "stream",
     "text": [
      "[I 2025-09-23 23:55:58,496] Trial 45 finished with value: 0.9703518078127813 and parameters: {'learning_rate': 0.06843963393517101, 'num_leaves': 94, 'max_depth': 12, 'min_child_samples': 61, 'feature_fraction': 0.7828804156341428, 'bagging_fraction': 0.6662869089214737, 'bagging_freq': 1, 'lambda_l1': 1.0525321412105513, 'lambda_l2': 0.11758475444816754}. Best is trial 39 with value: 0.9752389216373695.\n"
     ]
    }
   ],
   "source": [
    "study = optuna.create_study(direction=\"maximize\")\n",
    "study.optimize(lambda trial: objective(trial, X, y_encoded, le_type), n_trials=100, show_progress_bar=True)\n",
    "\n",
    "print(f\"Лучший Macro F1 Score: {study.best_value:.4f}\")\n",
    "print(\"Лучшие гиперпараметры:\", study.best_params)\n"
   ]
  },
  {
   "cell_type": "code",
   "execution_count": null,
   "id": "6a62f864",
   "metadata": {},
   "outputs": [],
   "source": [
    "best_params = study.best_params\n",
    "final_model = lgb.LGBMClassifier(**best_params, n_estimators=5000)\n",
    "final_model.fit(X, y_encoded)\n",
    "\n",
    "# ----------------- Предсказание -----------------\n",
    "test_preds = final_model.predict(X_test)\n",
    "predicted_class_names = le_type.inverse_transform(test_preds)\n",
    "\n",
    "submission_df = pd.DataFrame({id_col: test_df[id_col]})\n",
    "submission_df[target_col] = predicted_class_names\n",
    "\n",
    "submission_df.to_csv(\"result.csv\", index=False)"
   ]
  }
 ],
 "metadata": {
  "kernelspec": {
   "display_name": ".venv (3.11.9)",
   "language": "python",
   "name": "python3"
  },
  "language_info": {
   "codemirror_mode": {
    "name": "ipython",
    "version": 3
   },
   "file_extension": ".py",
   "mimetype": "text/x-python",
   "name": "python",
   "nbconvert_exporter": "python",
   "pygments_lexer": "ipython3",
   "version": "3.11.9"
  }
 },
 "nbformat": 4,
 "nbformat_minor": 5
}
